{
 "cells": [
  {
   "cell_type": "code",
   "execution_count": null,
   "id": "d5ad80cf",
   "metadata": {},
   "outputs": [],
   "source": [
    "import manin\n",
    "\n",
    "def fibonacci(n):\n",
    "    if n == 0:\n",
    "        return 0\n",
    "    elif n == 1:\n",
    "        return 1\n",
    "    else:\n",
    "        return fibonacci(n - 1) + fibonacci(n - 2)\n",
    "\n",
    "for i in range(10):\n",
    "    print(fibonacci(i))\n"
   ]
  },
  {
   "cell_type": "code",
   "execution_count": null,
   "id": "9b18ec6a",
   "metadata": {},
   "outputs": [],
   "source": [
    "pip install manin"
   ]
  },
  {
   "cell_type": "code",
   "execution_count": 2,
   "id": "bfbbaf0c",
   "metadata": {},
   "outputs": [
    {
     "name": "stdout",
     "output_type": "stream",
     "text": [
      "The value of 'x' is: 5\n"
     ]
    }
   ],
   "source": [
    "from sympy import symbols, Eq, solve\n",
    "\n",
    "def solve_equation():\n",
    "    # Define the variable 'x'\n",
    "    x = symbols('x')\n",
    "\n",
    "    # Define the equation: 3x + 5 = 20\n",
    "    equation = Eq(3*x + 5, 20)\n",
    "\n",
    "    # Solve the equation for 'x'\n",
    "    solution = solve(equation)\n",
    "\n",
    "    return solution\n",
    "\n",
    "# Call the function to get the solution\n",
    "solution = solve_equation()\n",
    "\n",
    "# Print the solution\n",
    "print(f\"The value of 'x' is: {solution[0]}\")\n"
   ]
  },
  {
   "cell_type": "code",
   "execution_count": 5,
   "id": "a5261320",
   "metadata": {},
   "outputs": [
    {
     "name": "stdout",
     "output_type": "stream",
     "text": [
      "Random Character Name: Debra Thompson\n"
     ]
    }
   ],
   "source": [
    "from faker import Faker\n",
    "\n",
    "def generate_random_character():\n",
    "    # Create a Faker instance\n",
    "    fake = Faker()\n",
    "\n",
    "    # Generate a random name or character\n",
    "    character_name = fake.name()\n",
    "\n",
    "    return character_name\n",
    "\n",
    "# Example usage\n",
    "character = generate_random_character()\n",
    "print(f\"Random Character Name: {character}\")\n"
   ]
  },
  {
   "cell_type": "code",
   "execution_count": 6,
   "id": "12a1bc7f",
   "metadata": {},
   "outputs": [
    {
     "ename": "ModuleNotFoundError",
     "evalue": "No module named 'manim'",
     "output_type": "error",
     "traceback": [
      "\u001b[1;31m---------------------------------------------------------------------------\u001b[0m",
      "\u001b[1;31mModuleNotFoundError\u001b[0m                       Traceback (most recent call last)",
      "Cell \u001b[1;32mIn[6], line 1\u001b[0m\n\u001b[1;32m----> 1\u001b[0m \u001b[38;5;28;01mfrom\u001b[39;00m \u001b[38;5;21;01mmanim\u001b[39;00m \u001b[38;5;28;01mimport\u001b[39;00m \u001b[38;5;241m*\u001b[39m\n\u001b[0;32m      3\u001b[0m \u001b[38;5;28;01mclass\u001b[39;00m \u001b[38;5;21;01mCharacterNameAnimation\u001b[39;00m(Scene):\n\u001b[0;32m      4\u001b[0m     \u001b[38;5;28;01mdef\u001b[39;00m \u001b[38;5;21mconstruct\u001b[39m(\u001b[38;5;28mself\u001b[39m):\n\u001b[0;32m      5\u001b[0m         \u001b[38;5;66;03m# Create TextMobject with the character name\u001b[39;00m\n",
      "\u001b[1;31mModuleNotFoundError\u001b[0m: No module named 'manim'"
     ]
    }
   ],
   "source": [
    "from manim import *\n",
    "\n",
    "class CharacterNameAnimation(Scene):\n",
    "    def construct(self):\n",
    "        # Create TextMobject with the character name\n",
    "        character_name = Text(\"Your_Character_Name\", font_size=48)\n",
    "\n",
    "        # Show and animate the character name\n",
    "        self.play(Write(character_name))\n",
    "\n",
    "        # Wait for a few seconds\n",
    "        self.wait(3)\n"
   ]
  },
  {
   "cell_type": "code",
   "execution_count": null,
   "id": "81c5ec17",
   "metadata": {},
   "outputs": [],
   "source": []
  }
 ],
 "metadata": {
  "kernelspec": {
   "display_name": "Python 3 (ipykernel)",
   "language": "python",
   "name": "python3"
  },
  "language_info": {
   "codemirror_mode": {
    "name": "ipython",
    "version": 3
   },
   "file_extension": ".py",
   "mimetype": "text/x-python",
   "name": "python",
   "nbconvert_exporter": "python",
   "pygments_lexer": "ipython3",
   "version": "3.9.12"
  }
 },
 "nbformat": 4,
 "nbformat_minor": 5
}
